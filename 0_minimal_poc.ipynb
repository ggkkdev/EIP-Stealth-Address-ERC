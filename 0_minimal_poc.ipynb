{
 "cells": [
  {
   "cell_type": "markdown",
   "metadata": {
    "id": "EY61Bgkfd-2z"
   },
   "source": [
    "# Stealth address\n",
    "Ce notebook explicite le notebook [original](https://github.com/nerolation/EIP-Stealth-Address-ERC) mais avec une unique clé de dépense."
   ]
  },
  {
   "cell_type": "markdown",
   "metadata": {
    "id": "tIkEZcCGrqDW"
   },
   "source": [
    "### Rappel sur la cryptographie sur courbe elliptique \n",
    "Une courbe elliptique est définie par une équation de type: \n",
    "\n",
    "\n",
    "$y^2= ax^3 + bx + c$\n",
    "\n",
    "avec a,b fixes, x et y les variables du corps fini.\n",
    "Il s'agit donc d'une fonction à deux variables: chaque point est défini par les coordonnées x et y : (x,y).\n",
    "\n",
    "Pour définir un système cryptographique basé sur les courbes elliptiques, on choisit une courbe elliptique en fixant a et b, on choisit un point de la courbe G, qu'on nomme le générateur et qui est publique, et on choisit un maximum du corps fini (pour les modulos). \n",
    "\n",
    "On peut additionner deux points facilement mais la multiplication est particulière car multiplier G par 5 par exemple revient à additionner G 5 fois.\n",
    "\n",
    "Dans les systèmes cryptographiques, on utilise des fonctions trapdoors, c'est à dire qu'il est facile de réaliser une opération dans un sens mais quasiment impossible dans l'autre sens. \n",
    "En l'occurence, il est facile de multiplier G par 5 pour obtenir un point P, mais à partir de P il n'est pas possible de récupérer le 5 initial. C'est le problème du logarithme discret. \n",
    "\n",
    "Cela nous permet de définir une clé privée s, et de communiquer la clé publique S=G*s . A partir de S, il n'est pas possible de récupérer s. "
   ]
  },
  {
   "cell_type": "code",
   "execution_count": 1,
   "metadata": {
    "colab": {
     "base_uri": "https://localhost:8080/"
    },
    "collapsed": true,
    "id": "JNLVCldzeAqT",
    "outputId": "b21b96e0-c479-4757-ca97-985420a80d86"
   },
   "outputs": [
    {
     "name": "stdout",
     "output_type": "stream",
     "text": [
      "Requirement already satisfied: py_ecc in /Users/guillaumequispe/miniconda3/lib/python3.8/site-packages (6.0.0)\n",
      "Requirement already satisfied: pysha3 in /Users/guillaumequispe/miniconda3/lib/python3.8/site-packages (1.0.2)\n",
      "Requirement already satisfied: eth_account in /Users/guillaumequispe/miniconda3/lib/python3.8/site-packages (0.8.0)\n",
      "Requirement already satisfied: cached-property<2,>=1.5.1 in /Users/guillaumequispe/miniconda3/lib/python3.8/site-packages (from py_ecc) (1.5.2)\n",
      "Requirement already satisfied: eth-typing<4,>=3.0.0 in /Users/guillaumequispe/miniconda3/lib/python3.8/site-packages (from py_ecc) (3.2.0)\n",
      "Requirement already satisfied: eth-utils<3,>=2.0.0 in /Users/guillaumequispe/miniconda3/lib/python3.8/site-packages (from py_ecc) (2.1.0)\n",
      "Requirement already satisfied: mypy-extensions>=0.4.1 in /Users/guillaumequispe/miniconda3/lib/python3.8/site-packages (from py_ecc) (0.4.3)\n",
      "Requirement already satisfied: bitarray<3,>=2.4.0 in /Users/guillaumequispe/miniconda3/lib/python3.8/site-packages (from eth_account) (2.7.0)\n",
      "Requirement already satisfied: rlp<4,>=1.0.0 in /Users/guillaumequispe/miniconda3/lib/python3.8/site-packages (from eth_account) (3.0.0)\n",
      "Requirement already satisfied: eth-keyfile<0.7.0,>=0.6.0 in /Users/guillaumequispe/miniconda3/lib/python3.8/site-packages (from eth_account) (0.6.0)\n",
      "Requirement already satisfied: eth-abi>=3.0.1 in /Users/guillaumequispe/miniconda3/lib/python3.8/site-packages (from eth_account) (3.0.1)\n",
      "Requirement already satisfied: eth-rlp<1,>=0.3.0 in /Users/guillaumequispe/miniconda3/lib/python3.8/site-packages (from eth_account) (0.3.0)\n",
      "Requirement already satisfied: eth-keys<0.5,>=0.4.0 in /Users/guillaumequispe/miniconda3/lib/python3.8/site-packages (from eth_account) (0.4.0)\n",
      "Requirement already satisfied: hexbytes<1,>=0.1.0 in /Users/guillaumequispe/miniconda3/lib/python3.8/site-packages (from eth_account) (0.3.0)\n",
      "Requirement already satisfied: eth-hash>=0.3.1 in /Users/guillaumequispe/miniconda3/lib/python3.8/site-packages (from eth-utils<3,>=2.0.0->py_ecc) (0.5.1)\n",
      "Requirement already satisfied: cytoolz>=0.10.1; implementation_name == \"cpython\" in /Users/guillaumequispe/miniconda3/lib/python3.8/site-packages (from eth-utils<3,>=2.0.0->py_ecc) (0.12.1)\n",
      "Requirement already satisfied: pycryptodome<4,>=3.6.6 in /Users/guillaumequispe/miniconda3/lib/python3.8/site-packages (from eth-keyfile<0.7.0,>=0.6.0->eth_account) (3.17)\n",
      "Requirement already satisfied: parsimonious<0.9.0,>=0.8.0 in /Users/guillaumequispe/miniconda3/lib/python3.8/site-packages (from eth-abi>=3.0.1->eth_account) (0.8.1)\n",
      "Requirement already satisfied: toolz>=0.8.0 in /Users/guillaumequispe/miniconda3/lib/python3.8/site-packages (from cytoolz>=0.10.1; implementation_name == \"cpython\"->eth-utils<3,>=2.0.0->py_ecc) (0.12.0)\n",
      "Requirement already satisfied: six>=1.9.0 in /Users/guillaumequispe/miniconda3/lib/python3.8/site-packages (from parsimonious<0.9.0,>=0.8.0->eth-abi>=3.0.1->eth_account) (1.15.0)\n"
     ]
    }
   ],
   "source": [
    "!python -m pip install py_ecc pysha3 eth_account"
   ]
  },
  {
   "cell_type": "code",
   "execution_count": 2,
   "metadata": {
    "id": "6bcea120"
   },
   "outputs": [],
   "source": [
    "import hashlib\n",
    "from py_ecc.secp256k1 import *\n",
    "import sha3\n",
    "from eth_account import Account"
   ]
  },
  {
   "cell_type": "markdown",
   "metadata": {
    "id": "4e25cb04"
   },
   "source": [
    "## Expéditeur\n"
   ]
  },
  {
   "cell_type": "markdown",
   "metadata": {
    "id": "-PsTSIVYgtvs"
   },
   "source": [
    "Ici l'expéditeur est Alice, elle veut envoyer des tokens à Bob. Pour cela, elle commence par générer une clé privée éphémère $s_{eph}$ et en déduit sa clé publique éphèmère $S_{eph}$. Cette clé ne servira qu'une fois, pour ce transfert. Elle garde secrète sa clé privée éphémère et publie, envoie au registre global des clés éphémères, la clé publique éphémère $S_{eph}$."
   ]
  },
  {
   "cell_type": "markdown",
   "metadata": {
    "id": "22ca0bf7"
   },
   "source": [
    "$S_{eph} = G*s_{eph}$"
   ]
  },
  {
   "cell_type": "code",
   "execution_count": 3,
   "metadata": {
    "colab": {
     "base_uri": "https://localhost:8080/"
    },
    "id": "bb9355a0",
    "outputId": "f9421f11-4e85-41c6-f7de-40818a4c010e"
   },
   "outputs": [
    {
     "data": {
      "text/plain": [
       "(22246744184454969143801186698733154500632648736073949898323976612504587645286,\n",
       " 110772761940586493986212935445517909380300793379795289150161960681985511655321)"
      ]
     },
     "execution_count": 3,
     "metadata": {},
     "output_type": "execute_result"
    }
   ],
   "source": [
    "# privkey: 0xd952fe0740d9d14011fc8ead3ab7de3c739d3aa93ce9254c10b0134d80d26a30\n",
    "# address: 0x3CB39EA2f14B16B69B451719A7BEd55e0aFEcE8F\n",
    "a_eph = int(0xd952fe0740d9d14011fc8ead3ab7de3c739d3aa93ce9254c10b0134d80d26a30) # private key\n",
    "A_eph = secp256k1.privtopub(a_eph.to_bytes(32, \"big\")) # public key\n",
    "A_eph"
   ]
  },
  {
   "cell_type": "markdown",
   "metadata": {
    "id": "c8240f67"
   },
   "source": [
    "## Destinataire"
   ]
  },
  {
   "cell_type": "markdown",
   "metadata": {
    "id": "FBy9uduVhD1z"
   },
   "source": [
    "Ici le receveur, Bob, génère une clé privée, et en déduit sa clé publique. On a donc 2 clés : \n",
    "\n",
    "*   La clé privée de dépense b_spend\n",
    "*   La clé publique de dépense B_spend\n",
    "\n",
    "Dans le blog de Vitalik, cette clé publique hashé correspond à la stealth meta-address.\n"
   ]
  },
  {
   "cell_type": "markdown",
   "metadata": {
    "id": "6895e603"
   },
   "source": [
    "$B_{spend} = G*b_{spend}$"
   ]
  },
  {
   "cell_type": "code",
   "execution_count": 4,
   "metadata": {
    "colab": {
     "base_uri": "https://localhost:8080/"
    },
    "id": "c8e2d6ad",
    "outputId": "4baec202-e863-4caa-85a9-a5d75fe6040a"
   },
   "outputs": [
    {
     "data": {
      "text/plain": [
       "(112711660439710606056748659173929673102114977341539408544630613555209775888121,\n",
       " 25583027980570883691656905877401976406448868254816295069919888960541586679410)"
      ]
     },
     "execution_count": 4,
     "metadata": {},
     "output_type": "execute_result"
    }
   ],
   "source": [
    "# privkey: 0x0000000000000000000000000000000000000000000000000000000000000001\n",
    "# address: 0x7E5F4552091A69125d5DfCb7b8C2659029395Bdf\n",
    "b_spend = int(0x0000000000000000000000000000000000000000000000000000000000000003) # private key\n",
    "\n",
    "B_spend = secp256k1.privtopub(b_spend.to_bytes(32, \"big\")) # public key\n",
    "B_spend"
   ]
  },
  {
   "cell_type": "markdown",
   "metadata": {
    "id": "eOU_j1vWC7BV"
   },
   "source": [
    "## Principe \n",
    "Maintenant que Alice a la clé éphémère et Bob a sa clé privée de dépense, le but est de construire une adresse où Alice peut envoyer des tokens que seul Bob peut récupérer, sans dévoiler évidemment son adresse principale. \n",
    "Pour cela, il faut: \n",
    "1.   Se mettre d'accord sur une addresse, clé publique, éphémère sur laquelle Alice et Bob vont communiquer. (à la Diffie Hellman)\n",
    "2.   faire en sorte que seul Bob connaisse la clé privée de cette clé publique éphémère. \n",
    "\n",
    "Pour rappel, Diffie Hellman permet à Alice et Bob de se mettre d'accord sur une clé que seuls eux-même connaissent, de manière sécurisée. Cela peut servir ensuite pour passer en cryptographie symétrique par exemple. La méthode des adresses stealth en est inspirée mais la modifie pour que seul Bob connaisse la clé privée de l'adresse convenue.  "
   ]
  },
  {
   "cell_type": "markdown",
   "metadata": {
    "id": "174929d7"
   },
   "source": [
    "## L'expéditeur Alice calcule l'adresse stealth de Bob \n",
    "\n",
    "Si $B_{spend}$ est la clé publique de Bob et s la clé privée éphémère d'Alice, Alice peut déterminer l'adresse partagée comme ceci:\n",
    "\n",
    "$Shared_{secret}=B_{spend} * a_{eph}$. \n",
    "\n",
    "Elle combine sa clé privée avec la clé publique de dépense de Bob.\n",
    "\n",
    "Cette adresse est partagée car Bob peut également retomber sur le même resultat d'une autre manière:\n",
    "\n",
    "$Shared_{secret}=b_{spend} * A_{eph}$. \n",
    "\n"
   ]
  },
  {
   "cell_type": "markdown",
   "metadata": {
    "id": "8b39ed39"
   },
   "source": [
    "Pour cela, elle calcule d'abord le secret partagé: \n",
    "\n",
    "$Shared_{secret} = A_{eph} * b_{spend}$"
   ]
  },
  {
   "cell_type": "code",
   "execution_count": 5,
   "metadata": {
    "colab": {
     "base_uri": "https://localhost:8080/"
    },
    "id": "63a022d7",
    "outputId": "34bef1d2-45dc-4c50-b341-6862e4bc25c1"
   },
   "outputs": [
    {
     "data": {
      "text/plain": [
       "(52736289061527850298314042255291833441398324762320546151491597132554285392820,\n",
       " 48049573440383169888492387607745136363991885859721651081432779646157521013267)"
      ]
     },
     "execution_count": 5,
     "metadata": {},
     "output_type": "execute_result"
    }
   ],
   "source": [
    "Shared = secp256k1.multiply(B_spend, a_eph)\n",
    "Shared"
   ]
  },
  {
   "cell_type": "markdown",
   "metadata": {
    "id": "yoDnmDIqn0ke"
   },
   "source": [
    "Il combine sa clé privé de dépense avec la clé publique éphémère d'Alice qu'il a récupéré du registre. \n",
    "Cela s'explique par l'associativité de la multiplication:\n",
    "\n",
    "$Shared_{secret} \\\\ \n",
    "= G * b_{spend} * a_{eph} = (G*b_{spend})*a_{eph}= B_{spend} * a_{eph} \\\\\n",
    "= G * b_{spend} * a_{eph} = b_{spend}*(G*a_{eph}) = B_{spend} * A_{eph}$\n",
    "\n",
    "Alice et Bob se sont donc mis d'accord sur une clé/adresse commune, ce qui correspond à du Diffie Hellman.\n",
    "\n"
   ]
  },
  {
   "cell_type": "code",
   "execution_count": 6,
   "metadata": {
    "id": "5f5fbcf4"
   },
   "outputs": [],
   "source": [
    "assert Shared == secp256k1.multiply(A_eph, b_spend)"
   ]
  },
  {
   "cell_type": "markdown",
   "metadata": {
    "id": "0d5803ff"
   },
   "source": [
    "Alice hash ensuite cette clé partagée"
   ]
  },
  {
   "cell_type": "code",
   "execution_count": 7,
   "metadata": {
    "id": "f1b38cb0"
   },
   "outputs": [],
   "source": [
    "Shared_hex = sha3.keccak_256(Shared[0].to_bytes(32, \"big\") \n",
    "                        + Shared[1].to_bytes(32, \"big\")\n",
    "                       ).hexdigest()\n",
    "Shared_hased = bytearray.fromhex(Shared_hex)"
   ]
  },
  {
   "cell_type": "markdown",
   "metadata": {
    "id": "a0647821"
   },
   "source": [
    "\n",
    "Maintenant, il faut modifier cette clé pour que seul Bob connaisse la clé privée. Pour cela Alice la hash et la combine avec la clé publique de dépense de Bob. \n",
    "\n",
    "$ Stealth_{key}=B_{spend} + G * hash(Shared_{secret})$\n"
   ]
  },
  {
   "cell_type": "code",
   "execution_count": 8,
   "metadata": {
    "colab": {
     "base_uri": "https://localhost:8080/",
     "height": 35
    },
    "id": "d9dd755f",
    "outputId": "a8bbecce-8570-4dfc-e799-de4c7fa7aa8c"
   },
   "outputs": [
    {
     "data": {
      "text/plain": [
       "'0x2a7fc499f8179c162256caf6946592b03c991fc4'"
      ]
     },
     "execution_count": 8,
     "metadata": {},
     "output_type": "execute_result"
    }
   ],
   "source": [
    "Stealth_key = secp256k1.add(B_spend, secp256k1.privtopub(Shared_hased))\n",
    "A_stealth_address = \"0x\"+ sha3.keccak_256(Stealth_key[0].to_bytes(32, \"big\")\n",
    "                            +Stealth_key[1].to_bytes(32, \"big\")\n",
    "                           ).hexdigest()[-40:]\n",
    "A_stealth_address"
   ]
  },
  {
   "cell_type": "markdown",
   "metadata": {
    "id": "38e69080"
   },
   "source": [
    "#### Alice envoie les tokens à cette adresse stealth  "
   ]
  },
  {
   "cell_type": "markdown",
   "metadata": {
    "id": "wK4GffgFts7R"
   },
   "source": [
    "#### Ensuite elle envoie la clé publique éphémère et l'adresse stealth au registre de clés éphémères."
   ]
  },
  {
   "cell_type": "code",
   "execution_count": 9,
   "metadata": {
    "colab": {
     "base_uri": "https://localhost:8080/"
    },
    "id": "cdf57fef",
    "outputId": "87a658ca-42b0-4e03-a2bb-e439b960b222"
   },
   "outputs": [
    {
     "data": {
      "text/plain": [
       "((22246744184454969143801186698733154500632648736073949898323976612504587645286,\n",
       "  110772761940586493986212935445517909380300793379795289150161960681985511655321),\n",
       " '0x2a7fc499f8179c162256caf6946592b03c991fc4')"
      ]
     },
     "execution_count": 9,
     "metadata": {},
     "output_type": "execute_result"
    }
   ],
   "source": [
    "A_eph, A_stealth_address"
   ]
  },
  {
   "cell_type": "markdown",
   "metadata": {
    "id": "588ccc7c"
   },
   "source": [
    "## Bob veut maintenant récupérer les fonds\n",
    "\n",
    "Pour cela il calcule d'abord la clé partagée à l'aide de sa clé privée de dépense:\n",
    "\n",
    "$Shared_{key}= G * b_{spend} * a_{eph} =b_{spend}*(G*a_{eph}) = b_{spend} * A_{eph}$\n",
    "\n",
    "Comme Alice il hashe cette clé partagée et ajoute sa clé publique de dépense:\n",
    "\n",
    "$ Stealth_{key}=B_{spend} + G * hash(Shared_{key})$\n"
   ]
  },
  {
   "cell_type": "code",
   "execution_count": 10,
   "metadata": {
    "colab": {
     "base_uri": "https://localhost:8080/",
     "height": 35
    },
    "id": "50b63208",
    "outputId": "0379be12-09ee-43f2-b18b-98f43af1f16b"
   },
   "outputs": [
    {
     "data": {
      "text/plain": [
       "'0x2a7fc499f8179c162256caf6946592b03c991fc4'"
      ]
     },
     "execution_count": 10,
     "metadata": {},
     "output_type": "execute_result"
    }
   ],
   "source": [
    "Shared_key = secp256k1.multiply(A_eph, b_spend)\n",
    "Shared_hex = sha3.keccak_256(Shared_key[0].to_bytes(32, \"big\")+Shared_key[1].to_bytes(32, \"big\")).hexdigest()\n",
    "Shared_hased = bytearray.fromhex(Shared_hex)\n",
    "\n",
    "B_stealth = secp256k1.add(B_spend, secp256k1.privtopub(Shared_hased))\n",
    "B_stealth_address  = \"0x\"+ sha3.keccak_256(Stealth_key[0].to_bytes(32, \"big\")\n",
    "                                        + Stealth_key[1].to_bytes(32, \"big\")\n",
    "                                        ).hexdigest()[-40:]\n",
    "B_stealth_address"
   ]
  },
  {
   "cell_type": "markdown",
   "metadata": {
    "id": "26758ea5"
   },
   "source": [
    "Vérifions maintenant que l'adresse calculée par Alice est bien la même que celle calculée par Bob"
   ]
  },
  {
   "cell_type": "code",
   "execution_count": 11,
   "metadata": {
    "colab": {
     "base_uri": "https://localhost:8080/"
    },
    "id": "3faed6a3",
    "outputId": "fd2cac74-f82a-4b64-fabf-1f1ad9ae5f3c"
   },
   "outputs": [
    {
     "data": {
      "text/plain": [
       "True"
      ]
     },
     "execution_count": 11,
     "metadata": {},
     "output_type": "execute_result"
    }
   ],
   "source": [
    "B_stealth_address == A_stealth_address"
   ]
  },
  {
   "cell_type": "markdown",
   "metadata": {
    "id": "050e346c"
   },
   "source": [
    "## Calculer la clé privée de l'adresse stealth de Bob\n",
    "\n",
    "De son côté, seul Bob peut récupérer les tokens déposés dans l'adresse stealth grâce à sa clé privée de dépense :\n",
    "$ Stealth_{address}=B_{spend} + G * hash(Shared_{key})=b_{spend}*G+G * hash(Shared_{key})= G*(b_{spend}+hash(Shared_{key}))$\n",
    "\n",
    "On voit qu'il faut multiplier G par $(b_{spend}+hash(Shared_{key}))$ pour obtenir l'adresse stealth, **c'est donc la clé privée correspondant à la clé publique stealth, connue uniquement de Bob qui connait $b_{spend}$**"
   ]
  },
  {
   "cell_type": "markdown",
   "metadata": {
    "id": "7673e439"
   },
   "source": [
    "$b_{stealth}=b_{spend}+hash(Shared_{key})$"
   ]
  },
  {
   "cell_type": "code",
   "execution_count": 12,
   "metadata": {
    "colab": {
     "base_uri": "https://localhost:8080/"
    },
    "id": "4013b57e",
    "outputId": "fec36744-8d63-4c58-fefe-a22bbb3b38ed"
   },
   "outputs": [
    {
     "data": {
      "text/plain": [
       "29716313209935704867209704493295016641057490968149592765059958401802925033007"
      ]
     },
     "execution_count": 12,
     "metadata": {},
     "output_type": "execute_result"
    }
   ],
   "source": [
    "Shared = secp256k1.multiply(A_eph, b_spend)\n",
    "Shared_hex = sha3.keccak_256(Shared[0].to_bytes(32, \"big\")+Shared[1].to_bytes(32, \"big\")).hexdigest()\n",
    "b_stealth = b_spend + int(Shared_hex, 16)\n",
    "b_stealth"
   ]
  },
  {
   "cell_type": "markdown",
   "metadata": {
    "id": "dc31c1aa"
   },
   "source": [
    "Il calcule ensuite la clé publique \n",
    "$B_{stealth} = b_{stealth}*G$"
   ]
  },
  {
   "cell_type": "code",
   "execution_count": 13,
   "metadata": {
    "colab": {
     "base_uri": "https://localhost:8080/"
    },
    "id": "09b5ccc2",
    "outputId": "c31b36a5-222c-4183-9078-95fc072c5853"
   },
   "outputs": [
    {
     "data": {
      "text/plain": [
       "(49528576054990901848060147798521484203360043839687519115038728561895435784037,\n",
       " 105959932460373769028909069596244169130086221657223409932600679158517405683805)"
      ]
     },
     "execution_count": 13,
     "metadata": {},
     "output_type": "execute_result"
    }
   ],
   "source": [
    "# Recipient has private key to ...\n",
    "B_stealth = secp256k1.privtopub(b_stealth.to_bytes(32, \"big\"))\n",
    "B_stealth"
   ]
  },
  {
   "cell_type": "markdown",
   "metadata": {
    "id": "jP7rkD7izFA6"
   },
   "source": [
    "Il met finalement cette clé de stealth sous forme d'adresse."
   ]
  },
  {
   "cell_type": "code",
   "execution_count": 14,
   "metadata": {
    "colab": {
     "base_uri": "https://localhost:8080/",
     "height": 35
    },
    "id": "a3ead30e",
    "outputId": "2ab7ad24-7222-42f2-8161-dda3c1155b2a"
   },
   "outputs": [
    {
     "data": {
      "text/plain": [
       "'0x2a7fc499f8179c162256caf6946592b03c991fc4'"
      ]
     },
     "execution_count": 14,
     "metadata": {},
     "output_type": "execute_result"
    }
   ],
   "source": [
    "B_stealthAddress_d  = \"0x\"+ sha3.keccak_256(B_stealth[0].to_bytes(32, \"big\")\n",
    "                                        + B_stealth[1].to_bytes(32, \"big\")\n",
    "                                        ).hexdigest()[-40:]\n",
    "B_stealthAddress_d"
   ]
  },
  {
   "cell_type": "code",
   "execution_count": 15,
   "metadata": {
    "colab": {
     "base_uri": "https://localhost:8080/",
     "height": 35
    },
    "id": "2712c07b",
    "outputId": "3aa7fea8-70c1-4167-d945-ecee37f05ae9"
   },
   "outputs": [
    {
     "data": {
      "text/plain": [
       "'0x2A7fC499f8179C162256CAF6946592B03c991fc4'"
      ]
     },
     "execution_count": 15,
     "metadata": {},
     "output_type": "execute_result"
    }
   ],
   "source": [
    "Account.from_key((b_stealth).to_bytes(32, \"big\")).address"
   ]
  },
  {
   "cell_type": "markdown",
   "metadata": {
    "id": "74f0325e"
   },
   "source": [
    "## Optionnel: Alice peut aider Bob à scanner le registre des clés en ajoutant le premier byte de $h(Shared_{secret})$"
   ]
  },
  {
   "cell_type": "markdown",
   "metadata": {
    "id": "ac45bb87"
   },
   "source": [
    "In addition to S and stA, the sender also broadcasts the first byte of h(Q)"
   ]
  },
  {
   "cell_type": "code",
   "execution_count": 16,
   "metadata": {
    "colab": {
     "base_uri": "https://localhost:8080/"
    },
    "id": "9645b880",
    "outputId": "c2721f89-62a6-4b89-92a1-3774bdd2da5a"
   },
   "outputs": [
    {
     "data": {
      "text/plain": [
       "65"
      ]
     },
     "execution_count": 16,
     "metadata": {},
     "output_type": "execute_result"
    }
   ],
   "source": [
    "Shared_hased[0]"
   ]
  },
  {
   "cell_type": "markdown",
   "metadata": {
    "id": "8788f2f5"
   },
   "source": [
    "The recipient can do the the same a before without one EC Multiplication, one EC Addition and on Public Key to Address Conversion in order to check being a potential recipient."
   ]
  },
  {
   "cell_type": "code",
   "execution_count": 17,
   "metadata": {
    "id": "bb9f5852"
   },
   "outputs": [],
   "source": [
    "Shared_derived = secp256k1.multiply(A_eph, b_spend)\n",
    "Shared_hex_derived = sha3.keccak_256(Shared_derived[0].to_bytes(32, \"big\")\n",
    "                                +Shared_derived[1].to_bytes(32, \"big\")\n",
    "                               ).hexdigest()\n",
    "Shared_hashed_derived = bytearray.fromhex(Shared_hex_derived)"
   ]
  },
  {
   "cell_type": "markdown",
   "metadata": {
    "id": "f7dc4624"
   },
   "source": [
    "Check view tag"
   ]
  },
  {
   "cell_type": "code",
   "execution_count": 18,
   "metadata": {
    "colab": {
     "base_uri": "https://localhost:8080/"
    },
    "id": "953bf07d",
    "outputId": "d35cb2bc-d734-411c-8111-deead5f5edc1"
   },
   "outputs": [
    {
     "data": {
      "text/plain": [
       "True"
      ]
     },
     "execution_count": 18,
     "metadata": {},
     "output_type": "execute_result"
    }
   ],
   "source": [
    "run = Shared_hased[0] == Shared_hashed_derived[0] \n",
    "run"
   ]
  },
  {
   "cell_type": "code",
   "execution_count": 19,
   "metadata": {
    "colab": {
     "base_uri": "https://localhost:8080/",
     "height": 35
    },
    "id": "e11ec134",
    "outputId": "eb32aedc-c537-4770-d6c1-dd5f24858ed5"
   },
   "outputs": [
    {
     "data": {
      "text/plain": [
       "'0x2a7fc499f8179c162256caf6946592b03c991fc4'"
      ]
     },
     "execution_count": 19,
     "metadata": {},
     "output_type": "execute_result"
    }
   ],
   "source": [
    "if run:\n",
    "    B_stealth = secp256k1.add(B_spend, secp256k1.privtopub(Shared_hased))\n",
    "    B_stealthAddress  = \"0x\"+ sha3.keccak_256(Stealth_key[0].to_bytes(32, \"big\")\n",
    "                                            + Stealth_key[1].to_bytes(32, \"big\")\n",
    "                                            ).hexdigest()[-40:]\n",
    "B_stealthAddress"
   ]
  },
  {
   "cell_type": "code",
   "execution_count": 20,
   "metadata": {
    "colab": {
     "base_uri": "https://localhost:8080/"
    },
    "id": "bd06ffc5",
    "outputId": "2cdd0f43-cb00-492a-8458-0cec54034349"
   },
   "outputs": [
    {
     "data": {
      "text/plain": [
       "True"
      ]
     },
     "execution_count": 20,
     "metadata": {},
     "output_type": "execute_result"
    }
   ],
   "source": [
    "B_stealthAddress==A_stealth_address"
   ]
  }
 ],
 "metadata": {
  "colab": {
   "provenance": []
  },
  "kernelspec": {
   "display_name": "Python 3",
   "language": "python",
   "name": "python3"
  },
  "language_info": {
   "codemirror_mode": {
    "name": "ipython",
    "version": 3
   },
   "file_extension": ".py",
   "mimetype": "text/x-python",
   "name": "python",
   "nbconvert_exporter": "python",
   "pygments_lexer": "ipython3",
   "version": "3.8.5"
  }
 },
 "nbformat": 4,
 "nbformat_minor": 5
}
