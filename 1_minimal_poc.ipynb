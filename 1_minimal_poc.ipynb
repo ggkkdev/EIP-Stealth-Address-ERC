{
  "cells": [
    {
      "cell_type": "markdown",
      "source": [
        "# Stealth address\n",
        "Ce notebook explicite le notebook [original](https://github.com/nerolation/EIP-Stealth-Address-ERC)."
      ],
      "metadata": {
        "id": "EY61Bgkfd-2z"
      },
      "id": "EY61Bgkfd-2z"
    },
    {
      "cell_type": "markdown",
      "source": [
        "Ici on s'intéresse au cas ou le receiver Bob veut une clé de scan pour l'audit, montrer qu'il est honnête, et une clé de dépense qu'il utilise pour utiliser les tokens qu'il a reçus (d'Alice)."
      ],
      "metadata": {
        "id": "_SN5K6s7eeIA"
      },
      "id": "_SN5K6s7eeIA"
    },
    {
      "cell_type": "markdown",
      "source": [
        "### Rappel sur la cryptographie sur courbe elliptique \n",
        "Une courbe elliptique est définie par une équation de type: \n",
        "\n",
        "\n",
        "$y^2= ax^3 + bx + c$\n",
        "\n",
        "avec a,b fixes, x et y les variables du corps fini.\n",
        "Il s'agit donc d'une fonction à deux variables: chaque point est défini par les coordonnées de x et y : (x,y).\n",
        "\n",
        "Pour définit un système cryptographique basé sur les courbes elliptiques, on choisit une courbe elliptique en fixant a et b, on choisit un point de la courbe G, qu'on nomme le générateur et qui est publique, et on choisit un maximum du corps fini (pour les modulos). \n",
        "\n",
        "On peut additionner deux points facilement mais la multiplication est particulière car multiplier G par 5 par exemple revient à additionner G 5 fois.\n",
        "\n",
        "Dans les systèmes cryptographiques, on utilise des fonction trapdoors, c'est à dire qu'il est facile de réaliser une opération dans un sens mais quasiment impossible dans l'autre sens. \n",
        "En l'occurence, il est facile de multiplier G par 5 pour obtenir un point P, mais à partir de P il n'est pas possible de récupérer le 5 initial. C'est le problème du logarithme discret. \n",
        "\n",
        "Cela nous permet de définir une clé privée s, et de communiquer la clé publique S=G*s . A partir de S, il n'est pas possible de récupérer s. "
      ],
      "metadata": {
        "id": "tIkEZcCGrqDW"
      },
      "id": "tIkEZcCGrqDW"
    },
    {
      "cell_type": "code",
      "execution_count": 1,
      "id": "d2c6b4cd",
      "metadata": {
        "id": "d2c6b4cd"
      },
      "outputs": [],
      "source": [
        "# PoC using scanning and spending keys"
      ]
    },
    {
      "cell_type": "code",
      "source": [
        "!python -m pip install py_ecc pysha3 eth_account"
      ],
      "metadata": {
        "colab": {
          "base_uri": "https://localhost:8080/"
        },
        "id": "JNLVCldzeAqT",
        "outputId": "0a603e49-5a35-4bbc-ae79-bafb18a8a24f"
      },
      "id": "JNLVCldzeAqT",
      "execution_count": 2,
      "outputs": [
        {
          "output_type": "stream",
          "name": "stdout",
          "text": [
            "Looking in indexes: https://pypi.org/simple, https://us-python.pkg.dev/colab-wheels/public/simple/\n",
            "Requirement already satisfied: py_ecc in /usr/local/lib/python3.8/dist-packages (6.0.0)\n",
            "Requirement already satisfied: pysha3 in /usr/local/lib/python3.8/dist-packages (1.0.2)\n",
            "Requirement already satisfied: eth_account in /usr/local/lib/python3.8/dist-packages (0.8.0)\n",
            "Requirement already satisfied: cached-property<2,>=1.5.1 in /usr/local/lib/python3.8/dist-packages (from py_ecc) (1.5.2)\n",
            "Requirement already satisfied: mypy-extensions>=0.4.1 in /usr/local/lib/python3.8/dist-packages (from py_ecc) (1.0.0)\n",
            "Requirement already satisfied: eth-utils<3,>=2.0.0 in /usr/local/lib/python3.8/dist-packages (from py_ecc) (2.1.0)\n",
            "Requirement already satisfied: eth-typing<4,>=3.0.0 in /usr/local/lib/python3.8/dist-packages (from py_ecc) (3.2.0)\n",
            "Requirement already satisfied: hexbytes<1,>=0.1.0 in /usr/local/lib/python3.8/dist-packages (from eth_account) (0.3.0)\n",
            "Requirement already satisfied: eth-rlp<1,>=0.3.0 in /usr/local/lib/python3.8/dist-packages (from eth_account) (0.3.0)\n",
            "Requirement already satisfied: eth-keys<0.5,>=0.4.0 in /usr/local/lib/python3.8/dist-packages (from eth_account) (0.4.0)\n",
            "Requirement already satisfied: eth-keyfile<0.7.0,>=0.6.0 in /usr/local/lib/python3.8/dist-packages (from eth_account) (0.6.0)\n",
            "Requirement already satisfied: eth-abi>=3.0.1 in /usr/local/lib/python3.8/dist-packages (from eth_account) (3.0.1)\n",
            "Requirement already satisfied: rlp<4,>=1.0.0 in /usr/local/lib/python3.8/dist-packages (from eth_account) (3.0.0)\n",
            "Requirement already satisfied: bitarray<3,>=2.4.0 in /usr/local/lib/python3.8/dist-packages (from eth_account) (2.7.0)\n",
            "Requirement already satisfied: parsimonious<0.9.0,>=0.8.0 in /usr/local/lib/python3.8/dist-packages (from eth-abi>=3.0.1->eth_account) (0.8.1)\n",
            "Requirement already satisfied: pycryptodome<4,>=3.6.6 in /usr/local/lib/python3.8/dist-packages (from eth-keyfile<0.7.0,>=0.6.0->eth_account) (3.17)\n",
            "Requirement already satisfied: eth-hash>=0.3.1 in /usr/local/lib/python3.8/dist-packages (from eth-utils<3,>=2.0.0->py_ecc) (0.5.1)\n",
            "Requirement already satisfied: cytoolz>=0.10.1 in /usr/local/lib/python3.8/dist-packages (from eth-utils<3,>=2.0.0->py_ecc) (0.12.1)\n",
            "Requirement already satisfied: toolz>=0.8.0 in /usr/local/lib/python3.8/dist-packages (from cytoolz>=0.10.1->eth-utils<3,>=2.0.0->py_ecc) (0.12.0)\n",
            "Requirement already satisfied: six>=1.9.0 in /usr/local/lib/python3.8/dist-packages (from parsimonious<0.9.0,>=0.8.0->eth-abi>=3.0.1->eth_account) (1.15.0)\n"
          ]
        }
      ]
    },
    {
      "cell_type": "code",
      "execution_count": 3,
      "id": "6bcea120",
      "metadata": {
        "id": "6bcea120"
      },
      "outputs": [],
      "source": [
        "import hashlib\n",
        "from py_ecc.secp256k1 import *\n",
        "import sha3\n",
        "from eth_account import Account"
      ]
    },
    {
      "cell_type": "markdown",
      "id": "4e25cb04",
      "metadata": {
        "id": "4e25cb04"
      },
      "source": [
        "## Sender\n"
      ]
    },
    {
      "cell_type": "markdown",
      "source": [
        "Ici le sender est Alice, elle veut envoyer des tokens à Bob. Pour cela, elle commence par générer sa clé éphémère $a_{eph}$ et en déduit sa clé publique éphèmère $A_{eph}$. Cette clé ne servira qu'une fois, pour ce transfert. Elle garde secrète sa clé privée éphémère et publie, envoie au registre global des clés éphémères, la clé publique éphémère $A_{eph}$."
      ],
      "metadata": {
        "id": "-PsTSIVYgtvs"
      },
      "id": "-PsTSIVYgtvs"
    },
    {
      "cell_type": "markdown",
      "id": "22ca0bf7",
      "metadata": {
        "id": "22ca0bf7"
      },
      "source": [
        "$A_{eph} = G*a_{eph}$"
      ]
    },
    {
      "cell_type": "code",
      "execution_count": 4,
      "id": "bb9355a0",
      "metadata": {
        "id": "bb9355a0",
        "outputId": "4f0a117f-1a85-4710-da52-a9bb10252a94",
        "colab": {
          "base_uri": "https://localhost:8080/"
        }
      },
      "outputs": [
        {
          "output_type": "execute_result",
          "data": {
            "text/plain": [
              "(22246744184454969143801186698733154500632648736073949898323976612504587645286,\n",
              " 110772761940586493986212935445517909380300793379795289150161960681985511655321)"
            ]
          },
          "metadata": {},
          "execution_count": 4
        }
      ],
      "source": [
        "# privkey: 0xd952fe0740d9d14011fc8ead3ab7de3c739d3aa93ce9254c10b0134d80d26a30\n",
        "# address: 0x3CB39EA2f14B16B69B451719A7BEd55e0aFEcE8F\n",
        "a_eph = int(0xd952fe0740d9d14011fc8ead3ab7de3c739d3aa93ce9254c10b0134d80d26a30) # private key\n",
        "A_eph = secp256k1.privtopub(a_eph.to_bytes(32, \"big\")) # public key\n",
        "A_eph"
      ]
    },
    {
      "cell_type": "markdown",
      "id": "c8240f67",
      "metadata": {
        "id": "c8240f67"
      },
      "source": [
        "## Recipient"
      ]
    },
    {
      "cell_type": "markdown",
      "source": [
        "Ici le receveur, Bob, génère deux clés privées, une pour lire ses adresses stealth qu'il pourra communiquer en cas d'audit par exemple, une pour les dépenser. On a donc 4 clés : \n",
        "\n",
        "*   La clé privée de lecture b_scan\n",
        "*   La clé publique de lecture B_scan\n",
        "*   La clé privée de dépense b_spend\n",
        "*   La clé publique de dépense B_spend\n",
        "\n",
        "Dans le blog de Vitalik, ces clés publiques correspondent aux stealth meta-address, c'est à dire que ce sont les clés de Bob qui vont lui permettre de lire et dépenser les fonds dans tous les adresses stealth qui lui sont destinées.\n",
        "\n",
        "Remarque: Le commentaire en première ligne indique juste qu'il est possible de faire le même procédé avec une seule clé de dépense, l'idée initialement expliquée dans le [blog](https://vitalik.ca/general/2023/01/20/stealth.html) de Vitalik. [texte du lien](https://)"
      ],
      "metadata": {
        "id": "FBy9uduVhD1z"
      },
      "id": "FBy9uduVhD1z"
    },
    {
      "cell_type": "markdown",
      "id": "6895e603",
      "metadata": {
        "id": "6895e603"
      },
      "source": [
        "$B_{scan} = G*b_{scan}$\n",
        "\n",
        "$B_{spend} = G*b_{spend}$"
      ]
    },
    {
      "cell_type": "code",
      "execution_count": 5,
      "id": "c8e2d6ad",
      "metadata": {
        "id": "c8e2d6ad",
        "outputId": "d3ca2ba3-a9dd-4816-81da-4760ba9f183d",
        "colab": {
          "base_uri": "https://localhost:8080/"
        }
      },
      "outputs": [
        {
          "output_type": "execute_result",
          "data": {
            "text/plain": [
              "((89565891926547004231252920425935692360644145829622209833684329913297188986597,\n",
              "  12158399299693830322967808612713398636155367887041628176798871954788371653930),\n",
              " (112711660439710606056748659173929673102114977341539408544630613555209775888121,\n",
              "  25583027980570883691656905877401976406448868254816295069919888960541586679410))"
            ]
          },
          "metadata": {},
          "execution_count": 5
        }
      ],
      "source": [
        "# privkey: 0x0000000000000000000000000000000000000000000000000000000000000001\n",
        "# address: 0x7E5F4552091A69125d5DfCb7b8C2659029395Bdf\n",
        "b_scan = int(0x0000000000000000000000000000000000000000000000000000000000000002) # private key\n",
        "b_spend = int(0x0000000000000000000000000000000000000000000000000000000000000003) # private key\n",
        "\n",
        "B_scan = secp256k1.privtopub(b_scan.to_bytes(32, \"big\")) # public key\n",
        "B_spend = secp256k1.privtopub(b_spend.to_bytes(32, \"big\")) # public key\n",
        "B_scan, B_spend"
      ]
    },
    {
      "cell_type": "markdown",
      "source": [
        "## Principe \n",
        "Maintenant que Alice a la clé éphémère et Bob a ses clé(s) privée(s), le but est de construire une adresse où Alice peut envoyer des tokens que seul Bob peut récupérer, sans dévoiler évidemment son adresse principale. \n",
        "Pour cela, il faut: \n",
        "1.   Se mettre d'accord sur une addresse, clé publique, éphémère sur laquelle Alice et Bob vont communiquer. (à la Diffie Hellman)\n",
        "2.   faire en sorte que seul Bob connaisse la clé privée de cette clé publique éphémère. \n",
        "\n",
        "Pour rappel, Diffie Hellman permet à Alice et Bob se mettre d'accord sur une clé que seuls eux-même connaissent, de manière sécurisée. Cela peut servir ensuite pour passer en cryptographie symétrique par exemple. La méthode des adresses stealth en est inspirée mais la modifie pour que seul Bob connaisse la clé privée de l'adresse convenue.  \n",
        "\n"
      ],
      "metadata": {
        "id": "eOU_j1vWC7BV"
      },
      "id": "eOU_j1vWC7BV"
    },
    {
      "cell_type": "markdown",
      "id": "174929d7",
      "metadata": {
        "id": "174929d7"
      },
      "source": [
        "## Le sender Alice calcule l'adresse stealth de Bob \n",
        "\n",
        "Si P_scan est la clé publique de Bob et s la clé privée éphémère d'Alice, Alice peut déterminer l'adresse partagée comme ceci:\n",
        "\n",
        "$Shared_{key}=B_{scan} * a_{eph}$. \n",
        "\n",
        "Elle combine sa clé privée avec la clé publique de scan de Bob.\n",
        "\n",
        "Cette adresse est partagée car Bob peut également retomber sur le même resultat d'une autre manière:\n",
        "\n",
        "$Shared_{key}=b_{scan} * A_{eph}$. \n",
        "\n"
      ]
    },
    {
      "cell_type": "markdown",
      "id": "8b39ed39",
      "metadata": {
        "id": "8b39ed39"
      },
      "source": [
        "Pour cela, elle calcule d'abord le secret partagé: \n",
        "\n",
        "$Shared_{secret} = R * p_{scan}$"
      ]
    },
    {
      "cell_type": "code",
      "execution_count": 6,
      "id": "63a022d7",
      "metadata": {
        "id": "63a022d7",
        "outputId": "6d407626-b083-4097-8fce-7555e7ba0774",
        "colab": {
          "base_uri": "https://localhost:8080/"
        }
      },
      "outputs": [
        {
          "output_type": "execute_result",
          "data": {
            "text/plain": [
              "(65311808848028536848162101908966111079795231803322390815513763038079235257196,\n",
              " 43767810034999830518515787564234053904327508763526333662117780420755425490082)"
            ]
          },
          "metadata": {},
          "execution_count": 6
        }
      ],
      "source": [
        "Shared = secp256k1.multiply(B_scan, a_eph)\n",
        "Shared"
      ]
    },
    {
      "cell_type": "markdown",
      "source": [
        "Il combine sa clé privé de scan avec la clé publique éphémère d'Alice qu'il a récupéré du registre. \n",
        "Cela s'explique par l'associativité de la multiplication:\n",
        "\n",
        "$Shared_{key} \\\\ \n",
        "= G * b_{scan} * a_{eph} = (G*b_{scan})*a_{eph}= B_{scan} * a_{eph} \\\\\n",
        "= G * b_{scan} * a_{eph} =b_{scan}*(G*a_{eph}) = b_{scan} * A_{eph}$\n",
        "\n",
        "Alice et Bob se sont donc mis d'accord sur une clé/adresse commune, ce qui correspond à du Diffie Hellman.\n",
        "\n"
      ],
      "metadata": {
        "id": "yoDnmDIqn0ke"
      },
      "id": "yoDnmDIqn0ke"
    },
    {
      "cell_type": "code",
      "execution_count": 7,
      "id": "5f5fbcf4",
      "metadata": {
        "id": "5f5fbcf4"
      },
      "outputs": [],
      "source": [
        "assert Shared == secp256k1.multiply(A_eph, b_scan)"
      ]
    },
    {
      "cell_type": "markdown",
      "id": "0d5803ff",
      "metadata": {
        "id": "0d5803ff"
      },
      "source": [
        "Alice hash ensuite cette clé partagée"
      ]
    },
    {
      "cell_type": "code",
      "execution_count": 8,
      "id": "f1b38cb0",
      "metadata": {
        "id": "f1b38cb0"
      },
      "outputs": [],
      "source": [
        "Shared_hex = sha3.keccak_256(Shared[0].to_bytes(32, \"big\") \n",
        "                        + Shared[1].to_bytes(32, \"big\")\n",
        "                       ).hexdigest()\n",
        "Shared_hased = bytearray.fromhex(Shared_hex)"
      ]
    },
    {
      "cell_type": "markdown",
      "id": "a0647821",
      "metadata": {
        "id": "a0647821"
      },
      "source": [
        "\n",
        "Maintenant, il faut modifier cette adresse pour que seul Bob connaisse la clé privée. Pour cela Alice la hash et la combine avec la clé publique de dépense de Bob. \n",
        "\n",
        "$ Stealth_{key}=B_{spend} + G * hash(Shared_{key})$\n"
      ]
    },
    {
      "cell_type": "code",
      "execution_count": 9,
      "id": "d9dd755f",
      "metadata": {
        "id": "d9dd755f",
        "outputId": "b3d2eceb-428e-4305-df06-9228d59e8d35",
        "colab": {
          "base_uri": "https://localhost:8080/",
          "height": 35
        }
      },
      "outputs": [
        {
          "output_type": "execute_result",
          "data": {
            "text/plain": [
              "'0xfed69df0a27f1dae0d7430ead82aaedfad6332bb'"
            ],
            "application/vnd.google.colaboratory.intrinsic+json": {
              "type": "string"
            }
          },
          "metadata": {},
          "execution_count": 9
        }
      ],
      "source": [
        "Stealth_key = secp256k1.add(B_spend, secp256k1.privtopub(Shared_hased))\n",
        "A_stealth_address = \"0x\"+ sha3.keccak_256(Stealth_key[0].to_bytes(32, \"big\")\n",
        "                            +Stealth_key[1].to_bytes(32, \"big\")\n",
        "                           ).hexdigest()[-40:]\n",
        "A_stealth_address"
      ]
    },
    {
      "cell_type": "markdown",
      "id": "38e69080",
      "metadata": {
        "id": "38e69080"
      },
      "source": [
        "#### Alice envoie les tokens à cette adresse stealth  "
      ]
    },
    {
      "cell_type": "markdown",
      "source": [
        "#### Ensuite elle envoie la clé publique éphémère et l'adresse stealth au registre de clés éphémères."
      ],
      "metadata": {
        "id": "wK4GffgFts7R"
      },
      "id": "wK4GffgFts7R"
    },
    {
      "cell_type": "code",
      "execution_count": 10,
      "id": "cdf57fef",
      "metadata": {
        "id": "cdf57fef",
        "outputId": "d4936da3-112b-410e-fa43-8f08ef0bc98b",
        "colab": {
          "base_uri": "https://localhost:8080/"
        }
      },
      "outputs": [
        {
          "output_type": "execute_result",
          "data": {
            "text/plain": [
              "((22246744184454969143801186698733154500632648736073949898323976612504587645286,\n",
              "  110772761940586493986212935445517909380300793379795289150161960681985511655321),\n",
              " '0xfed69df0a27f1dae0d7430ead82aaedfad6332bb')"
            ]
          },
          "metadata": {},
          "execution_count": 10
        }
      ],
      "source": [
        "A_eph, A_stealth_address"
      ]
    },
    {
      "cell_type": "markdown",
      "id": "588ccc7c",
      "metadata": {
        "id": "588ccc7c"
      },
      "source": [
        "## Bob veut maintenant récupérer les fonds\n",
        "\n",
        "Pour cela il calcule d'abord la clé partagée à l'aide de sa clé privée de dépense:\n",
        "\n",
        "$Shared_{key}= G * b_{scan} * a_{eph} =b_{scan}*(G*a_{eph}) = b_{scan} * A_{eph}$\n",
        "\n",
        "Comme Alice il hashe cette clé partagée et ajoute sa clé publique de dépense:\n",
        "\n",
        "$ Stealth_{key}=B_{spend} + G * hash(Shared_{key})$\n"
      ]
    },
    {
      "cell_type": "code",
      "execution_count": 11,
      "id": "50b63208",
      "metadata": {
        "id": "50b63208",
        "outputId": "eea1d373-3c6a-4a9b-b4f6-04ec095c2f98",
        "colab": {
          "base_uri": "https://localhost:8080/",
          "height": 35
        }
      },
      "outputs": [
        {
          "output_type": "execute_result",
          "data": {
            "text/plain": [
              "'0xfed69df0a27f1dae0d7430ead82aaedfad6332bb'"
            ],
            "application/vnd.google.colaboratory.intrinsic+json": {
              "type": "string"
            }
          },
          "metadata": {},
          "execution_count": 11
        }
      ],
      "source": [
        "Shared = secp256k1.multiply(A_eph, b_scan)\n",
        "Shared_hex = sha3.keccak_256(Shared[0].to_bytes(32, \"big\")+Shared[1].to_bytes(32, \"big\")).hexdigest()\n",
        "Shared_hased = bytearray.fromhex(Shared_hex)\n",
        "\n",
        "B_stealth = secp256k1.add(B_spend, secp256k1.privtopub(Shared_hased))\n",
        "B_stealth_address  = \"0x\"+ sha3.keccak_256(Stealth_key[0].to_bytes(32, \"big\")\n",
        "                                        + Stealth_key[1].to_bytes(32, \"big\")\n",
        "                                        ).hexdigest()[-40:]\n",
        "B_stealth_address"
      ]
    },
    {
      "cell_type": "markdown",
      "id": "26758ea5",
      "metadata": {
        "id": "26758ea5"
      },
      "source": [
        "Vérifions maintenant que l'adresse calculée par Alice est bien la même que celle calculée par Bob"
      ]
    },
    {
      "cell_type": "code",
      "execution_count": 12,
      "id": "3faed6a3",
      "metadata": {
        "id": "3faed6a3",
        "outputId": "dfa5ac80-6a36-45ce-86a0-c2387dc2e474",
        "colab": {
          "base_uri": "https://localhost:8080/"
        }
      },
      "outputs": [
        {
          "output_type": "execute_result",
          "data": {
            "text/plain": [
              "True"
            ]
          },
          "metadata": {},
          "execution_count": 12
        }
      ],
      "source": [
        "B_stealth_address == A_stealth_address"
      ]
    },
    {
      "cell_type": "markdown",
      "id": "050e346c",
      "metadata": {
        "id": "050e346c"
      },
      "source": [
        "## Calculer la clé privée de l'adresse stealth de Bob\n",
        "\n",
        "De son côté, seul Bob peut récupérer les tokens déposés dans l'adresse stealth grâce à sa clé privée de dépense :\n",
        "$ Stealth_{key}=B_{spend} + G * hash(Shared_{key})=b_{spend}*G+G * hash(Shared_{key})= G*(b_{spend}+hash(Shared_{key}))$\n",
        "\n",
        "On voit qu'il faut multiplier G par $(b_{spend}+hash(Shared_{key}))$ pour obtenir l'adresse stealth, **c'est donc la clé privée correspondant à la clé publique stealth, connue uniquement de Bob qui connait b_{spend}**"
      ]
    },
    {
      "cell_type": "markdown",
      "id": "7673e439",
      "metadata": {
        "id": "7673e439"
      },
      "source": [
        "$b_{stealth}=b_{spend}+hash(Shared)$"
      ]
    },
    {
      "cell_type": "code",
      "execution_count": 13,
      "id": "4013b57e",
      "metadata": {
        "id": "4013b57e",
        "outputId": "91eca886-64be-476f-f05c-13baf500a300",
        "colab": {
          "base_uri": "https://localhost:8080/"
        }
      },
      "outputs": [
        {
          "output_type": "execute_result",
          "data": {
            "text/plain": [
              "39153944482575822531387237249775711740128993925789544779866399859639729033274"
            ]
          },
          "metadata": {},
          "execution_count": 13
        }
      ],
      "source": [
        "Shared = secp256k1.multiply(A_eph, b_scan)\n",
        "Shared_hex = sha3.keccak_256(Shared[0].to_bytes(32, \"big\")+Shared[1].to_bytes(32, \"big\")).hexdigest()\n",
        "b_stealth = b_spend + int(Shared_hex, 16)\n",
        "b_stealth"
      ]
    },
    {
      "cell_type": "markdown",
      "id": "dc31c1aa",
      "metadata": {
        "id": "dc31c1aa"
      },
      "source": [
        "Il calcule ensuite la clé publique \n",
        "$B_{stealth} = b_{stealth}*G$"
      ]
    },
    {
      "cell_type": "code",
      "execution_count": 14,
      "id": "09b5ccc2",
      "metadata": {
        "id": "09b5ccc2",
        "outputId": "2cc76a27-d3c3-4d6a-bd1b-37ad7ef4ee7d",
        "colab": {
          "base_uri": "https://localhost:8080/"
        }
      },
      "outputs": [
        {
          "output_type": "execute_result",
          "data": {
            "text/plain": [
              "(67663851387124608323744162645277269585638670865381831245083336172545348387042,\n",
              " 80449904826544093817252981338261706033086352950841917067356875711772573870404)"
            ]
          },
          "metadata": {},
          "execution_count": 14
        }
      ],
      "source": [
        "# Recipient has private key to ...\n",
        "B_stealth = secp256k1.privtopub(b_stealth.to_bytes(32, \"big\"))\n",
        "B_stealth"
      ]
    },
    {
      "cell_type": "markdown",
      "source": [
        "Il met finalement cette clé de stealth sous forme d'adresse."
      ],
      "metadata": {
        "id": "jP7rkD7izFA6"
      },
      "id": "jP7rkD7izFA6"
    },
    {
      "cell_type": "code",
      "execution_count": 15,
      "id": "a3ead30e",
      "metadata": {
        "id": "a3ead30e",
        "outputId": "fd5cb9de-2ace-46da-c2b5-3d6bab02a06e",
        "colab": {
          "base_uri": "https://localhost:8080/",
          "height": 35
        }
      },
      "outputs": [
        {
          "output_type": "execute_result",
          "data": {
            "text/plain": [
              "'0xfed69df0a27f1dae0d7430ead82aaedfad6332bb'"
            ],
            "application/vnd.google.colaboratory.intrinsic+json": {
              "type": "string"
            }
          },
          "metadata": {},
          "execution_count": 15
        }
      ],
      "source": [
        "B_stealthAddress_d  = \"0x\"+ sha3.keccak_256(B_stealth[0].to_bytes(32, \"big\")\n",
        "                                        + B_stealth[1].to_bytes(32, \"big\")\n",
        "                                        ).hexdigest()[-40:]\n",
        "B_stealthAddress_d"
      ]
    },
    {
      "cell_type": "code",
      "execution_count": 16,
      "id": "2712c07b",
      "metadata": {
        "id": "2712c07b",
        "outputId": "f80b0364-ba81-4e4e-ee15-4ff928795b96",
        "colab": {
          "base_uri": "https://localhost:8080/",
          "height": 35
        }
      },
      "outputs": [
        {
          "output_type": "execute_result",
          "data": {
            "text/plain": [
              "'0xfEd69Df0a27F1daE0D7430EAd82aaEdfAD6332bb'"
            ],
            "application/vnd.google.colaboratory.intrinsic+json": {
              "type": "string"
            }
          },
          "metadata": {},
          "execution_count": 16
        }
      ],
      "source": [
        "Account.from_key((b_stealth).to_bytes(32, \"big\")).address"
      ]
    },
    {
      "cell_type": "markdown",
      "id": "74f0325e",
      "metadata": {
        "id": "74f0325e"
      },
      "source": [
        "## Optionnel: Alice peut aider Bob à scanner le registre des clés en ajoutant le premier byte de $h(Shared_{secret})$"
      ]
    },
    {
      "cell_type": "markdown",
      "id": "ac45bb87",
      "metadata": {
        "id": "ac45bb87"
      },
      "source": [
        "In addition to S and stA, the sender also broadcasts the first byte of h(Q)"
      ]
    },
    {
      "cell_type": "code",
      "execution_count": 17,
      "id": "9645b880",
      "metadata": {
        "id": "9645b880",
        "outputId": "5a46c90c-15fd-4ef8-9a04-7d0d0157a73c",
        "colab": {
          "base_uri": "https://localhost:8080/"
        }
      },
      "outputs": [
        {
          "output_type": "execute_result",
          "data": {
            "text/plain": [
              "86"
            ]
          },
          "metadata": {},
          "execution_count": 17
        }
      ],
      "source": [
        "Shared_hased[0]"
      ]
    },
    {
      "cell_type": "markdown",
      "id": "8788f2f5",
      "metadata": {
        "id": "8788f2f5"
      },
      "source": [
        "The recipient can do the the same a before without one EC Multiplication, one EC Addition and on Public Key to Address Conversion in order to check being a potential recipient."
      ]
    },
    {
      "cell_type": "code",
      "execution_count": 18,
      "id": "bb9f5852",
      "metadata": {
        "id": "bb9f5852"
      },
      "outputs": [],
      "source": [
        "Q_derived = secp256k1.multiply(A_eph, b_scan)\n",
        "Q_hex_derived = sha3.keccak_256(Q_derived[0].to_bytes(32, \"big\")\n",
        "                                +Q_derived[1].to_bytes(32, \"big\")\n",
        "                               ).hexdigest()\n",
        "Q_hashed_derived = bytearray.fromhex(Q_hex_derived)"
      ]
    },
    {
      "cell_type": "markdown",
      "id": "f7dc4624",
      "metadata": {
        "id": "f7dc4624"
      },
      "source": [
        "Check view tag"
      ]
    },
    {
      "cell_type": "code",
      "execution_count": 19,
      "id": "953bf07d",
      "metadata": {
        "id": "953bf07d",
        "outputId": "c9cf6d5e-0f3a-4d5b-d00a-4f517823342c",
        "colab": {
          "base_uri": "https://localhost:8080/"
        }
      },
      "outputs": [
        {
          "output_type": "execute_result",
          "data": {
            "text/plain": [
              "True"
            ]
          },
          "metadata": {},
          "execution_count": 19
        }
      ],
      "source": [
        "run = Shared_hased[0] == Q_hashed_derived[0] \n",
        "run"
      ]
    },
    {
      "cell_type": "code",
      "execution_count": 20,
      "id": "e11ec134",
      "metadata": {
        "id": "e11ec134",
        "outputId": "f693e336-30c2-4eab-edc6-29a676705d45",
        "colab": {
          "base_uri": "https://localhost:8080/",
          "height": 35
        }
      },
      "outputs": [
        {
          "output_type": "execute_result",
          "data": {
            "text/plain": [
              "'0xfed69df0a27f1dae0d7430ead82aaedfad6332bb'"
            ],
            "application/vnd.google.colaboratory.intrinsic+json": {
              "type": "string"
            }
          },
          "metadata": {},
          "execution_count": 20
        }
      ],
      "source": [
        "if run:\n",
        "    B_stealth = secp256k1.add(B_spend, secp256k1.privtopub(Shared_hased))\n",
        "    B_stealth_address  = \"0x\"+ sha3.keccak_256(Stealth_key[0].to_bytes(32, \"big\")\n",
        "                                            + Stealth_key[1].to_bytes(32, \"big\")\n",
        "                                            ).hexdigest()[-40:]\n",
        "B_stealth_address"
      ]
    },
    {
      "cell_type": "code",
      "execution_count": 21,
      "id": "bd06ffc5",
      "metadata": {
        "id": "bd06ffc5",
        "outputId": "59c0a895-80bc-4fc8-deef-bfbeae31febf",
        "colab": {
          "base_uri": "https://localhost:8080/"
        }
      },
      "outputs": [
        {
          "output_type": "execute_result",
          "data": {
            "text/plain": [
              "True"
            ]
          },
          "metadata": {},
          "execution_count": 21
        }
      ],
      "source": [
        "B_stealth_address==A_stealth_address"
      ]
    },
    {
      "cell_type": "code",
      "source": [],
      "metadata": {
        "id": "iygEv_Piqjoa"
      },
      "id": "iygEv_Piqjoa",
      "execution_count": 33,
      "outputs": []
    }
  ],
  "metadata": {
    "kernelspec": {
      "display_name": "hackathon",
      "language": "python",
      "name": "hackathon"
    },
    "language_info": {
      "codemirror_mode": {
        "name": "ipython",
        "version": 3
      },
      "file_extension": ".py",
      "mimetype": "text/x-python",
      "name": "python",
      "nbconvert_exporter": "python",
      "pygments_lexer": "ipython3",
      "version": "3.10.8"
    },
    "colab": {
      "provenance": []
    }
  },
  "nbformat": 4,
  "nbformat_minor": 5
}